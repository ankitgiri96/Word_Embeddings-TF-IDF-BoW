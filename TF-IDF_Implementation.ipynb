{
 "cells": [
  {
   "cell_type": "markdown",
   "metadata": {
    "colab_type": "text",
    "id": "h9464I-uxLiw"
   },
   "source": [
   
   ]
  },
  {
   "cell_type": "markdown",
   "metadata": {
    "colab_type": "text",
    "id": "IvLvmewlxLix"
   },
   "source": [
    "<font face='georgia'>\n",
    "    \n",
    "   <h4><strong>What does tf-idf mean?</strong></h4>\n",
    "\n",
    "   <p>    \n",
    "Tf-idf stands for <em>term frequency-inverse document frequency</em>, and the tf-idf weight is a weight often used in information retrieval and text mining. This weight is a statistical measure used to evaluate how important a word is to a document in a collection or corpus. The importance increases proportionally to the number of times a word appears in the document but is offset by the frequency of the word in the corpus. Variations of the tf-idf weighting scheme are often used by search engines as a central tool in scoring and ranking a document's relevance given a user query.\n",
    "</p>\n",
    "    \n",
    "   <p>\n",
    "One of the simplest ranking functions is computed by summing the tf-idf for each query term; many more sophisticated ranking functions are variants of this simple model.\n",
    "</p>\n",
    "    \n",
    "   <p>\n",
    "Tf-idf can be successfully used for stop-words filtering in various subject fields including text summarization and classification.\n",
    "</p>\n",
    "    \n",
    "</font>"
   ]
  },
  {
   "cell_type": "markdown",
   "metadata": {
    "colab_type": "text",
    "id": "4XLaGFUMxLiy"
   },
   "source": [
    "<font face='georgia'>\n",
    "    <h4><strong>How to Compute:</strong></h4>\n",
    "\n",
    "Typically, the tf-idf weight is composed by two terms: the first computes the normalized Term Frequency (TF), aka. the number of times a word appears in a document, divided by the total number of words in that document; the second term is the Inverse Document Frequency (IDF), computed as the logarithm of the number of the documents in the corpus divided by the number of documents where the specific term appears.\n",
    "\n",
    " <ul>\n",
    "    <li>\n",
    "<strong>TF:</strong> Term Frequency, which measures how frequently a term occurs in a document. Since every document is different in length, it is possible that a term would appear much more times in long documents than shorter ones. Thus, the term frequency is often divided by the document length (aka. the total number of terms in the document) as a way of normalization: <br>\n",
    "\n",
    "$TF(t) = \\frac{\\text{Number of times term t appears in a document}}{\\text{Total number of terms in the document}}.$\n",
    "</li>\n",
    "<li>\n",
    "<strong>IDF:</strong> Inverse Document Frequency, which measures how important a term is. While computing TF, all terms are considered equally important. However it is known that certain terms, such as \"is\", \"of\", and \"that\", may appear a lot of times but have little importance. Thus we need to weigh down the frequent terms while scale up the rare ones, by computing the following: <br>\n",
    "\n",
    "$IDF(t) = \\log_{e}\\frac{\\text{Total  number of documents}} {\\text{Number of documents with term t in it}}.$\n",
    "for numerical stabiltiy we will be changing this formula little bit\n",
    "$IDF(t) = \\log_{e}\\frac{\\text{Total  number of documents}} {\\text{Number of documents with term t in it}+1}.$\n",
    "</li>\n",
    "</ul>\n",
    "\n",
    "<br>\n",
    "<h4><strong>Example</strong></h4>\n",
    "<p>\n",
    "\n",
    "Consider a document containing 100 words wherein the word cat appears 3 times. The term frequency (i.e., tf) for cat is then (3 / 100) = 0.03. Now, assume we have 10 million documents and the word cat appears in one thousand of these. Then, the inverse document frequency (i.e., idf) is calculated as log(10,000,000 / 1,000) = 4. Thus, the Tf-idf weight is the product of these quantities: 0.03 * 4 = 0.12.\n",
    "</p>\n",
    "</font>"
   ]
  },
  {
   "cell_type": "markdown",
   "metadata": {
    "colab_type": "text",
    "id": "dg2ooa4DxLiz"
   },
   "source": [
    "## Task-1"
   ]
  },
  {
   "cell_type": "markdown",
   "metadata": {
    "colab_type": "text",
    "id": "TAcTjhO8xLiz"
   },
   "source": [
    "<font face='georgia'>\n",
    "    <h4><strong>1. Build a TFIDF Vectorizer & compare its results with Sklearn:</strong></h4>\n",
    "\n",
    "<ul>\n",
    "    <li> As a part of this task you will be implementing TFIDF vectorizer on a collection of text documents.</li>\n",
    "    <br>\n",
    "    <li> You should compare the results of your own implementation of TFIDF vectorizer with that of sklearns implemenation TFIDF vectorizer.</li>\n",
    "    <br>\n",
    "    <li> Sklearn does few more tweaks in the implementation of its version of TFIDF vectorizer, so to replicate the exact results you would need to add following things to your custom implementation of tfidf vectorizer:\n",
    "       <ol>\n",
    "        <li> Sklearn has its vocabulary generated from idf sroted in alphabetical order</li>\n",
    "        <li> Sklearn formula of idf is different from the standard textbook formula. Here the constant <strong>\"1\"</strong> is added to the numerator and denominator of the idf as if an extra document was seen containing every term in the collection exactly once, which prevents zero divisions.\n",
    "            \n",
    " $IDF(t) = 1+\\log_{e}\\frac{1\\text{ }+\\text{ Total  number of documents in collection}} {1+\\text{Number of documents with term t in it}}.$\n",
    "        </li>\n",
    "        <li> Sklearn applies L2-normalization on its output matrix.</li>\n",
    "        <li> The final output of sklearn tfidf vectorizer is a sparse matrix.</li>\n",
    "    </ol>\n",
    "    <br>\n",
    "    <li>Steps to approach this task:\n",
    "    <ol>\n",
    "        <li> You would have to write both fit and transform methods for your custom implementation of tfidf vectorizer.</li>\n",
    "        <li> Print out the alphabetically sorted voacb after you fit your data and check if its the same as that of the feature names from sklearn tfidf vectorizer. </li>\n",
    "        <li> Print out the idf values from your implementation and check if its the same as that of sklearns tfidf vectorizer idf values. </li>\n",
    "        <li> Once you get your voacb and idf values to be same as that of sklearns implementation of tfidf vectorizer, proceed to the below steps. </li>\n",
    "        <li> Make sure the output of your implementation is a sparse matrix. Before generating the final output, you need to normalize your sparse matrix using L2 normalization. You can refer to this link https://scikit-learn.org/stable/modules/generated/sklearn.preprocessing.normalize.html </li>\n",
    "        <li> After completing the above steps, print the output of your custom implementation and compare it with sklearns implementation of tfidf vectorizer.</li>\n",
    "        <li> To check the output of a single document in your collection of documents,  you can convert the sparse matrix related only to that document into dense matrix and print it.</li>\n",
    "        </ol>\n",
    "    </li>\n",
    "    <br>\n",
    "   </ul>\n",
    "\n",
    "  <p> <font color=\"#e60000\"><strong>Note-1: </strong></font> All the necessary outputs of sklearns tfidf vectorizer have been provided as reference in this notebook, you can compare your outputs as mentioned in the above steps, with these outputs.<br>\n",
    "   <font color=\"#e60000\"><strong>Note-2: </strong></font> The output of your custom implementation and that of sklearns implementation would match only with the collection of document strings provided to you as reference in this notebook. It would not match for strings that contain capital letters or punctuations, etc, because sklearn version of tfidf vectorizer deals with such strings in a different way. To know further details about how sklearn tfidf vectorizer works with such string, you can always refer to its official documentation.<br>\n",
    "   <font color=\"#e60000\"><strong>Note-3: </strong></font> During this task, it would be helpful for you to debug the code you write with print statements wherever necessary. But when you are finally submitting the assignment, make sure your code is readable and try not to print things which are not part of this task.\n",
    "    </p>"
   ]
  },
  {
   "cell_type": "markdown",
   "metadata": {
    "colab_type": "text",
    "id": "OnV82tg1xLi0"
   },
   "source": [
    "### Corpus"
   ]
  },
  {
   "cell_type": "code",
   "execution_count": 1,
   "metadata": {
    "colab": {},
    "colab_type": "code",
    "id": "bUsYm9wjxLi1"
   },
   "outputs": [],
   "source": [
    "## SkLearn# Collection of string documents\n",
    "\n",
    "corpus = [\n",
    "     'this is the first document',\n",
    "     'this document is the second document',\n",
    "     'and this is the third one',\n",
    "     'is this the first document',\n",
    "]"
   ]
  },
  {
   "cell_type": "markdown",
   "metadata": {
    "colab_type": "text",
    "id": "eLwmFZfKxLi4"
   },
   "source": [
    "### SkLearn Implementation"
   ]
  },
  {
   "cell_type": "code",
   "execution_count": 2,
   "metadata": {
    "colab": {},
    "colab_type": "code",
    "id": "Np4dfQOkxLi4"
   },
   "outputs": [],
   "source": [
    "from sklearn.feature_extraction.text import TfidfVectorizer\n",
    "vectorizer = TfidfVectorizer()\n",
    "vectorizer.fit(corpus)\n",
    "skl_output = vectorizer.transform(corpus)"
   ]
  },
  {
   "cell_type": "code",
   "execution_count": 3,
   "metadata": {
    "colab": {},
    "colab_type": "code",
    "id": "-7Om8YpYxLi6",
    "outputId": "0a3bd0f5-4424-4400-944f-4482a80bd799"
   },
   "outputs": [
    {
     "name": "stdout",
     "output_type": "stream",
     "text": [
      "['and', 'document', 'first', 'is', 'one', 'second', 'the', 'third', 'this']\n"
     ]
    }
   ],
   "source": [
    "# sklearn feature names, they are sorted in alphabetic order by default.\n",
    "\n",
    "print(vectorizer.get_feature_names())"
   ]
  },
  {
   "cell_type": "code",
   "execution_count": 4,
   "metadata": {
    "colab": {},
    "colab_type": "code",
    "id": "dTKplK96xLi-",
    "outputId": "53722fa2-6756-4aa0-f179-37b578bb6890"
   },
   "outputs": [
    {
     "name": "stdout",
     "output_type": "stream",
     "text": [
      "[1.91629073 1.22314355 1.51082562 1.         1.91629073 1.91629073\n",
      " 1.         1.91629073 1.        ]\n"
     ]
    }
   ],
   "source": [
    "# Here we will print the sklearn tfidf vectorizer idf values after applying the fit method\n",
    "# After using the fit function on the corpus the vocab has 9 words in it, and each has its idf value.\n",
    "\n",
    "print(vectorizer.idf_)"
   ]
  },
  {
   "cell_type": "code",
   "execution_count": 5,
   "metadata": {
    "colab": {},
    "colab_type": "code",
    "id": "-CTiWHygxLjA",
    "outputId": "8d5a9cde-2c29-4afe-f7b4-1547e88dba4f"
   },
   "outputs": [
    {
     "data": {
      "text/plain": [
       "(4, 9)"
      ]
     },
     "execution_count": 5,
     "metadata": {},
     "output_type": "execute_result"
    }
   ],
   "source": [
    "# shape of sklearn tfidf vectorizer output after applying transform method.\n",
    "\n",
    "skl_output.shape"
   ]
  },
  {
   "cell_type": "code",
   "execution_count": 6,
   "metadata": {
    "colab": {},
    "colab_type": "code",
    "id": "bDKEpbA-xLjD",
    "outputId": "87dafd65-5313-443f-8c6e-1b05cc8c2543"
   },
   "outputs": [
    {
     "name": "stdout",
     "output_type": "stream",
     "text": [
      "  (0, 8)\t0.38408524091481483\n",
      "  (0, 6)\t0.38408524091481483\n",
      "  (0, 3)\t0.38408524091481483\n",
      "  (0, 2)\t0.5802858236844359\n",
      "  (0, 1)\t0.46979138557992045\n"
     ]
    }
   ],
   "source": [
    "# sklearn tfidf values for first line of the above corpus.\n",
    "# Here the output is a sparse matrix\n",
    "\n",
    "print(skl_output[0])"
   ]
  },
  {
   "cell_type": "code",
   "execution_count": 7,
   "metadata": {
    "colab": {},
    "colab_type": "code",
    "id": "3QWo34hexLjF",
    "outputId": "cdc04e08-989f-4bdc-dd7f-f1c82a9f90be"
   },
   "outputs": [
    {
     "name": "stdout",
     "output_type": "stream",
     "text": [
      "[[0.         0.46979139 0.58028582 0.38408524 0.         0.\n",
      "  0.38408524 0.         0.38408524]]\n"
     ]
    }
   ],
   "source": [
    "# sklearn tfidf values for first line of the above corpus.\n",
    "# To understand the output better, here we are converting the sparse output matrix to dense matrix and printing it.\n",
    "# Notice that this output is normalized using L2 normalization. sklearn does this by default.\n",
    "\n",
    "print(skl_output[0].toarray())"
   ]
  },
  {
   "cell_type": "markdown",
   "metadata": {
    "colab_type": "text",
    "id": "qfIwx5LzxLjI"
   },
   "source": [
    "### Your custom implementation"
   ]
  },
  {
   "cell_type": "code",
   "execution_count": 8,
   "metadata": {
    "colab": {},
    "colab_type": "code",
    "id": "HjuCcJwXxLjJ"
   },
   "outputs": [],
   "source": [
    "# Write your code here.\n",
    "# Make sure its well documented and readble with appropriate comments.\n",
    "# Compare your results with the above sklearn tfidf vectorizer\n",
    "# You are not supposed to use any other library apart from the ones given below\n",
    "\n",
    "from collections import Counter\n",
    "from tqdm import tqdm\n",
    "from scipy.sparse import csr_matrix\n",
    "import math\n",
    "import operator\n",
    "from sklearn.preprocessing import normalize\n",
    "import numpy as np"
   ]
  },
  {
   "cell_type": "code",
   "execution_count": 9,
   "metadata": {},
   "outputs": [],
   "source": [
    "#collection of text documents\n",
    "corpus = [\n",
    "     'this is the first document',\n",
    "     'this document is the second document',\n",
    "     'and this is the third one',\n",
    "     'is this the first document',\n",
    "]"
   ]
  },
  {
   "cell_type": "code",
   "execution_count": 10,
   "metadata": {},
   "outputs": [
    {
     "data": {
      "text/plain": [
       "4"
      ]
     },
     "execution_count": 10,
     "metadata": {},
     "output_type": "execute_result"
    }
   ],
   "source": [
    "len(corpus)"
   ]
  },
  {
   "cell_type": "code",
   "execution_count": 11,
   "metadata": {},
   "outputs": [
    {
     "name": "stdout",
     "output_type": "stream",
     "text": [
      "['and', 'document', 'first', 'is', 'one', 'second', 'the', 'third', 'this']\n",
      "{'and': 0, 'document': 1, 'first': 2, 'is': 3, 'one': 4, 'second': 5, 'the': 6, 'third': 7, 'this': 8}\n"
     ]
    }
   ],
   "source": [
    "# defining my own fit function\n",
    "\n",
    "def fit(corpus):\n",
    "    ''' This method takes corpus of documents and finds out the each unique words present in whole corpus.\n",
    "        Return type is sorted list of unique words.\n",
    "        Author : Ankit Giri\n",
    "    '''\n",
    "    unq_words = set()\n",
    "    if isinstance(corpus, list):\n",
    "        for row in corpus:\n",
    "            for word in row.split():\n",
    "                if len(word) < 2:          #to avoid some punctuation or single character words.\n",
    "                    continue\n",
    "                unq_words.add(word)\n",
    "    else:\n",
    "        print('word corpus should be a list of ducuments')\n",
    "    unq_words = sorted(list(unq_words))\n",
    "    return unq_words\n",
    "    \n",
    "vectorizer = fit(corpus)                 #It is list of words present in whole corpus in sorted order.\n",
    "print(vectorizer)\n",
    "vocab = {j:i for i,j in enumerate(fit(corpus))}  #Creating a vocab dictionary, that contains words as key and values as their repective index position in vetorizer list.\n",
    "print(vocab)"
   ]
  },
  {
   "cell_type": "code",
   "execution_count": 12,
   "metadata": {},
   "outputs": [],
   "source": [
    "def term_freq(vectorizer):\n",
    "    '''\n",
    "        This function takes vectorizer list as input and counts the no of documents where word is present at least once.\n",
    "        It returns the frequency list.\n",
    "        Author : Ankit Giri\n",
    "    '''\n",
    "    word_freq = []\n",
    "    for i in vectorizer:        #Iteraring over each unique word present in vectorizer list.\n",
    "        count = 0               #Initial count is set to 0.\n",
    "        for j in corpus:        #If word is present in jth document at least once, increase the count.\n",
    "            if i in j:\n",
    "                count+=1\n",
    "        word_freq.append(count)\n",
    "    return word_freq"
   ]
  },
  {
   "cell_type": "code",
   "execution_count": 13,
   "metadata": {},
   "outputs": [],
   "source": [
    "term_freq = term_freq(vectorizer)"
   ]
  },
  {
   "cell_type": "code",
   "execution_count": 14,
   "metadata": {},
   "outputs": [
    {
     "name": "stdout",
     "output_type": "stream",
     "text": [
      "['this is the first document', 'this document is the second document', 'and this is the third one', 'is this the first document']\n",
      "['and', 'document', 'first', 'is', 'one', 'second', 'the', 'third', 'this']\n",
      "[1, 3, 2, 4, 1, 1, 4, 1, 4]\n"
     ]
    }
   ],
   "source": [
    "print(corpus)\n",
    "print(vectorizer)\n",
    "print(term_freq)"
   ]
  },
  {
   "cell_type": "markdown",
   "metadata": {},
   "source": [
    "* $IDF(t) = 1+\\log_{e}\\frac{1\\text{ }+\\text{ Total  number of documents in collection}} {1+\\text{Number of documents with term t in it}}.$"
   ]
  },
  {
   "cell_type": "markdown",
   "metadata": {},
   "source": [
    "* Using above formula, I calculated the idf values of each word"
   ]
  },
  {
   "cell_type": "code",
   "execution_count": 15,
   "metadata": {},
   "outputs": [],
   "source": [
    "vectorizer_idf = [(1+math.log((1+len(corpus))/(1+i))) for i in term_freq]"
   ]
  },
  {
   "cell_type": "code",
   "execution_count": 16,
   "metadata": {},
   "outputs": [
    {
     "name": "stdout",
     "output_type": "stream",
     "text": [
      "[1.916290731874155, 1.2231435513142097, 1.5108256237659907, 1.0, 1.916290731874155, 1.916290731874155, 1.0, 1.916290731874155, 1.0]\n"
     ]
    }
   ],
   "source": [
    "print(vectorizer_idf)"
   ]
  },
  {
   "cell_type": "markdown",
   "metadata": {},
   "source": [
    "* Now creating a dictionary whose key is word and values are corresponding idf values."
   ]
  },
  {
   "cell_type": "code",
   "execution_count": 17,
   "metadata": {},
   "outputs": [
    {
     "data": {
      "text/plain": [
       "{'and': 1.916290731874155,\n",
       " 'document': 1.2231435513142097,\n",
       " 'first': 1.5108256237659907,\n",
       " 'is': 1.0,\n",
       " 'one': 1.916290731874155,\n",
       " 'second': 1.916290731874155,\n",
       " 'the': 1.0,\n",
       " 'third': 1.916290731874155,\n",
       " 'this': 1.0}"
      ]
     },
     "execution_count": 17,
     "metadata": {},
     "output_type": "execute_result"
    }
   ],
   "source": [
    "word_idf = {vectorizer[i]:vectorizer_idf[i] for i in range(len(vectorizer))}\n",
    "word_idf"
   ]
  },
  {
   "cell_type": "code",
   "execution_count": 18,
   "metadata": {
    "scrolled": true
   },
   "outputs": [],
   "source": [
    "def transform(corpus, word_idf):\n",
    "    '''\n",
    "        This method is used to return the feature matrix using sparse matrix, values would be their feature idf.\n",
    "        It takes document corpus and word_idf dictioanary as input and returns the csr_matrix.\n",
    "        Author : Ankit Giri\n",
    "    '''\n",
    "    row = []\n",
    "    col = []\n",
    "    val = []\n",
    "    if isinstance(corpus, list):\n",
    "        for indx, rows in enumerate(tqdm(corpus)):\n",
    "            # We will iterate over corpus and spling it into row index and each row.\n",
    "            for word in rows.split():\n",
    "               # Spliting each word in a row.\n",
    "                if len(word) < 2:\n",
    "                    continue\n",
    "                col_index = vocab.get(word, -1)\n",
    "                # Here col_index is the column number of word present in vocab. If word present return the column index else return -1.\n",
    "                if col_index != -1:\n",
    "                    #If word is present in vocab, append row as row number of document in corpus.\n",
    "                    #Col would be column no present in vocab, and value is idf value correspondigly.\n",
    "                    row.append(indx)\n",
    "                    col.append(col_index) \n",
    "                    val.append(word_idf[word])\n",
    "                    \n",
    "        return csr_matrix((val, (row,col)), shape=(len(corpus),len(vocab)))\n",
    "    else:\n",
    "        print(\"we need to pass list of strings as corpus of documents\")"
   ]
  },
  {
   "cell_type": "markdown",
   "metadata": {},
   "source": [
    "0 this is the first document\n",
    "1 this document is the second document\n",
    "2 and this is the third one\n",
    "3 is this the first document"
   ]
  },
  {
   "cell_type": "markdown",
   "metadata": {},
   "source": [
    "* Now applying l2 normalization on transfored sparse matrix"
   ]
  },
  {
   "cell_type": "code",
   "execution_count": 19,
   "metadata": {
    "tags": []
   },
   "outputs": [
    {
     "name": "stderr",
     "output_type": "stream",
     "text": [
      "100%|██████████| 4/4 [00:00<?, ?it/s]\n"
     ]
    }
   ],
   "source": [
    "normalize_sprs_mat = normalize(transform(corpus, word_idf), norm='l2',axis=1, copy=True, return_norm=False)"
   ]
  },
  {
   "cell_type": "code",
   "execution_count": 20,
   "metadata": {},
   "outputs": [
    {
     "data": {
      "text/plain": [
       "(4, 9)"
      ]
     },
     "execution_count": 20,
     "metadata": {},
     "output_type": "execute_result"
    }
   ],
   "source": [
    "normalize_sprs_mat.shape  #4 rows i.e equal to no of documnets and 9 columns."
   ]
  },
  {
   "cell_type": "code",
   "execution_count": 21,
   "metadata": {},
   "outputs": [
    {
     "name": "stdout",
     "output_type": "stream",
     "text": [
      "  (0, 1)\t0.46979138557992045\n",
      "  (0, 2)\t0.5802858236844359\n",
      "  (0, 3)\t0.38408524091481483\n",
      "  (0, 6)\t0.38408524091481483\n",
      "  (0, 8)\t0.38408524091481483\n"
     ]
    }
   ],
   "source": [
    "print(normalize_sprs_mat[0])   #sparse matrix elements correcponding to 1st document on corpus."
   ]
  },
  {
   "cell_type": "code",
   "execution_count": 22,
   "metadata": {},
   "outputs": [
    {
     "name": "stdout",
     "output_type": "stream",
     "text": [
      "  (0, 1)\t0.6876235979836938\n",
      "  (0, 3)\t0.281088674033753\n",
      "  (0, 5)\t0.5386476208856763\n",
      "  (0, 6)\t0.281088674033753\n",
      "  (0, 8)\t0.281088674033753\n"
     ]
    }
   ],
   "source": [
    "print(normalize_sprs_mat[1])  #sparse matrix elements correcponding to 2nd document on corpus."
   ]
  },
  {
   "cell_type": "markdown",
   "metadata": {
    "colab_type": "text",
    "id": "MMxBmVZExLjK"
   },
   "source": [
    "## Task-2"
   ]
  },
  {
   "cell_type": "markdown",
   "metadata": {
    "colab_type": "text",
    "id": "51j_OtqAxLjL"
   },
   "source": [
    "<font face='georgia'>\n",
    "    <h4><strong>2. Implement max features functionality:</strong></h4>\n",
    "\n",
    "<ul>\n",
    "    <li> As a part of this task you have to modify your fit and transform functions so that your vocab will contain only 50 terms with top idf scores.</li>\n",
    "    <br>\n",
    "    <li>This task is similar to your previous task, just that here your vocabulary is limited to only top 50 features names based on their idf values. Basically your output will have exactly 50 columns and the number of rows will depend on the number of documents you have in your corpus.</li>\n",
    "    <br>\n",
    "    <li>Here you will be give a pickle file, with file name <strong>cleaned_strings</strong>. You would have to load the corpus from this file and use it as input to your tfidf vectorizer.</li>\n",
    "    <br>\n",
    "    <li>Steps to approach this task:\n",
    "    <ol>\n",
    "        <li> You would have to write both fit and transform methods for your custom implementation of tfidf vectorizer, just like in the previous task. Additionally, here you have to limit the number of features generated to 50 as described above.</li>\n",
    "        <li> Now sort your vocab based in descending order of idf values and print out the words in the sorted voacb after you fit your data. Here you should be getting only 50 terms in your vocab. And make sure to print idf values for each term in your vocab. </li>\n",
    "        <li> Make sure the output of your implementation is a sparse matrix. Before generating the final output, you need to normalize your sparse matrix using L2 normalization. You can refer to this link https://scikit-learn.org/stable/modules/generated/sklearn.preprocessing.normalize.html </li>\n",
    "        <li> Now check the output of a single document in your collection of documents,  you can convert the sparse matrix related only to that document into dense matrix and print it. And this dense matrix should contain 1 row and 50 columns. </li>\n",
    "        </ol>\n",
    "    </li>\n",
    "    <br>\n",
    "   </ul>"
   ]
  },
  {
   "cell_type": "code",
   "execution_count": 23,
   "metadata": {
    "colab": {},
    "colab_type": "code",
    "id": "NHxPLlwNxLjL",
    "outputId": "9abd8e08-0e24-4975-9a13-4d3636d60323"
   },
   "outputs": [
    {
     "name": "stdout",
     "output_type": "stream",
     "text": [
      "Number of documents in corpus =  746\n"
     ]
    }
   ],
   "source": [
    "# Below is the code to load the cleaned_strings pickle file provided\n",
    "# Here corpus is of list type\n",
    "\n",
    "import pickle\n",
    "with open('cleaned_strings', 'rb') as f:\n",
    "    corpus = pickle.load(f)\n",
    "    \n",
    "# printing the length of the corpus loaded\n",
    "print(\"Number of documents in corpus = \",len(corpus))"
   ]
  },
  {
   "cell_type": "code",
   "execution_count": 24,
   "metadata": {
    "colab": {},
    "colab_type": "code",
    "id": "ZULfoOIdxLjQ"
   },
   "outputs": [],
   "source": [
    "# Write your code here.\n",
    "# Try not to hardcode any values.\n",
    "# Make sure its well documented and readble with appropriate comments."
   ]
  },
  {
   "cell_type": "code",
   "execution_count": 25,
   "metadata": {},
   "outputs": [
    {
     "name": "stdout",
     "output_type": "stream",
     "text": [
      "['slow moving aimless movie distressed drifting young man', 'not sure lost flat characters audience nearly half walked', 'attempting artiness black white clever camera angles movie disappointed became even ridiculous acting poor plot lines almost non existent', 'little music anything speak', 'best scene movie gerardo trying find song keeps running head']\n"
     ]
    }
   ],
   "source": [
    "#print 1st 5 documents of the given corpus\n",
    "print(corpus[:5])"
   ]
  },
  {
   "cell_type": "code",
   "execution_count": 26,
   "metadata": {
    "colab": {},
    "colab_type": "code",
    "id": "1_DJnnR3xLjR"
   },
   "outputs": [],
   "source": [
    "# going to apply previously defined same fit function to get vectorizer list.(Basically unique words list across whole corpus)\n",
    "vectorizer = fit(corpus)"
   ]
  },
  {
   "cell_type": "code",
   "execution_count": 27,
   "metadata": {},
   "outputs": [
    {
     "name": "stdout",
     "output_type": "stream",
     "text": [
      "<class 'list'>\n",
      "2886\n"
     ]
    }
   ],
   "source": [
    "print(type(vectorizer))\n",
    "print(len(vectorizer))"
   ]
  },
  {
   "cell_type": "code",
   "execution_count": null,
   "metadata": {},
   "outputs": [],
   "source": []
  },
  {
   "cell_type": "code",
   "execution_count": 29,
   "metadata": {},
   "outputs": [
    {
     "data": {
      "text/plain": [
       "2886"
      ]
     },
     "execution_count": 29,
     "metadata": {},
     "output_type": "execute_result"
    }
   ],
   "source": [
    "def term_freq(vectorizer):\n",
    "    '''\n",
    "        This function takes vectorizer list as input and counts the no of documents where word is present at least once.\n",
    "        It returns the frequency list.\n",
    "        Author : Ankit Giri\n",
    "    '''\n",
    "    word_freq = []\n",
    "    for i in vectorizer:        #Iteraring over each unique word present in vectorizer list.\n",
    "        count = 0               #Initial count is set to 0.\n",
    "        for j in corpus:        #If word is present in jth document at least once, increase the count.\n",
    "            if i in j:\n",
    "                count+=1\n",
    "        word_freq.append(count)\n",
    "    return word_freq\n",
    "term_freq = term_freq(vectorizer)\n",
    "len(term_freq)"
   ]
  },
  {
   "cell_type": "code",
   "execution_count": 30,
   "metadata": {},
   "outputs": [],
   "source": [
    "#calculating idf values for each word.\n",
    "vectorizer_idf = [(1+math.log((1+len(corpus))/(1+i))) for i in term_freq]"
   ]
  },
  {
   "cell_type": "code",
   "execution_count": 31,
   "metadata": {},
   "outputs": [],
   "source": [
    "#It is a dictioanry having word as key and it's idf as value.\n",
    "word_idf = {vectorizer[i]:vectorizer_idf[i] for i in range(len(vectorizer))}"
   ]
  },
  {
   "cell_type": "markdown",
   "metadata": {},
   "source": [
    "### Ordering the word_idf dictionry in descending order and getting the top 50 highest idf values and corresponding word to that."
   ]
  },
  {
   "cell_type": "code",
   "execution_count": 32,
   "metadata": {},
   "outputs": [],
   "source": [
    "word_idf_top50 = sorted(word_idf.items(), key=lambda x: x[1], reverse=True)[:50]"
   ]
  },
  {
   "cell_type": "code",
   "execution_count": 33,
   "metadata": {},
   "outputs": [
    {
     "data": {
      "text/plain": [
       "{'aailiyah': 6.922918004572872,\n",
       " 'abandoned': 6.922918004572872,\n",
       " 'abroad': 6.922918004572872,\n",
       " 'abstruse': 6.922918004572872,\n",
       " 'academy': 6.922918004572872,\n",
       " 'accents': 6.922918004572872,\n",
       " 'accessible': 6.922918004572872,\n",
       " 'acclaimed': 6.922918004572872,\n",
       " 'accolades': 6.922918004572872,\n",
       " 'accurately': 6.922918004572872,\n",
       " 'achille': 6.922918004572872,\n",
       " 'ackerman': 6.922918004572872,\n",
       " 'adams': 6.922918004572872,\n",
       " 'added': 6.922918004572872,\n",
       " 'admins': 6.922918004572872,\n",
       " 'admiration': 6.922918004572872,\n",
       " 'admitted': 6.922918004572872,\n",
       " 'adrift': 6.922918004572872,\n",
       " 'adventure': 6.922918004572872,\n",
       " 'aesthetically': 6.922918004572872,\n",
       " 'affected': 6.922918004572872,\n",
       " 'affleck': 6.922918004572872,\n",
       " 'afternoon': 6.922918004572872,\n",
       " 'agreed': 6.922918004572872,\n",
       " 'aimless': 6.922918004572872,\n",
       " 'aired': 6.922918004572872,\n",
       " 'akasha': 6.922918004572872,\n",
       " 'alert': 6.922918004572872,\n",
       " 'alike': 6.922918004572872,\n",
       " 'allison': 6.922918004572872,\n",
       " 'allowing': 6.922918004572872,\n",
       " 'alongside': 6.922918004572872,\n",
       " 'amateurish': 6.922918004572872,\n",
       " 'amazed': 6.922918004572872,\n",
       " 'amazingly': 6.922918004572872,\n",
       " 'amusing': 6.922918004572872,\n",
       " 'amust': 6.922918004572872,\n",
       " 'anatomist': 6.922918004572872,\n",
       " 'angela': 6.922918004572872,\n",
       " 'angelina': 6.922918004572872,\n",
       " 'angry': 6.922918004572872,\n",
       " 'anguish': 6.922918004572872,\n",
       " 'angus': 6.922918004572872,\n",
       " 'animals': 6.922918004572872,\n",
       " 'animated': 6.922918004572872,\n",
       " 'anita': 6.922918004572872,\n",
       " 'anniversary': 6.922918004572872,\n",
       " 'anthony': 6.922918004572872,\n",
       " 'antithesis': 6.922918004572872,\n",
       " 'anyway': 6.922918004572872}"
      ]
     },
     "execution_count": 33,
     "metadata": {},
     "output_type": "execute_result"
    }
   ],
   "source": [
    "word_idf_top50 = {i[0]:i[1] for i in word_idf_top50}\n",
    "word_idf_top50"
   ]
  },
  {
   "cell_type": "markdown",
   "metadata": {},
   "source": [
    "* Now preparing the vocab of top 50 words based on their idf scores, so that this vocab list can be send to transform method."
   ]
  },
  {
   "cell_type": "code",
   "execution_count": 34,
   "metadata": {},
   "outputs": [],
   "source": [
    "vocab_top50 = {i:j for j,i in enumerate(word_idf_top50.keys())}"
   ]
  },
  {
   "cell_type": "code",
   "execution_count": 35,
   "metadata": {},
   "outputs": [
    {
     "data": {
      "text/plain": [
       "50"
      ]
     },
     "execution_count": 35,
     "metadata": {},
     "output_type": "execute_result"
    }
   ],
   "source": [
    "len(vocab_top50)"
   ]
  },
  {
   "cell_type": "code",
   "execution_count": 36,
   "metadata": {},
   "outputs": [],
   "source": [
    "def transform(corpus, word_idf_top50):\n",
    "    '''\n",
    "        This method is used to return the feature matrix using sparse matrix, values would be their feature idf.\n",
    "        It takes document corpus and word_idf dictioanary as input and returns the csr_matrix.\n",
    "        Author : Ankit Giri\n",
    "    '''\n",
    "    row = []\n",
    "    col = []\n",
    "    val = []\n",
    "    if isinstance(corpus, list):\n",
    "        for indx, rows in enumerate(tqdm(corpus)):\n",
    "            # We will iterate over corpus and spling it into row index and each row.\n",
    "            for word in rows.split():\n",
    "               # Spliting each word in a row.\n",
    "                if len(word) < 2:\n",
    "                    continue\n",
    "                col_index = vocab_top50.get(word, -1)\n",
    "                # Here col_index is the column number of word present in vocab. If word present return the column index else return -1.\n",
    "                if col_index != -1:\n",
    "                    #If word is present in vocab_top50, append row as row number of document in corpus.\n",
    "                    #Col would be column no present in vocab_top50, and value is idf value correspondigly from word_idf_top50.\n",
    "                    row.append(indx)\n",
    "                    col.append(col_index)\n",
    "                    val.append(word_idf_top50[word])\n",
    "                    \n",
    "        return csr_matrix((val, (row,col)), shape=(len(corpus),len(vocab_top50)))\n",
    "    else:\n",
    "        print(\"we need to pass list of strings as corpus of documents\")"
   ]
  },
  {
   "cell_type": "markdown",
   "metadata": {},
   "source": [
    "* Now passing the document corpus and top50 word_idf dictionary into transform method and applying 'l2' norm to this."
   ]
  },
  {
   "cell_type": "code",
   "execution_count": 37,
   "metadata": {},
   "outputs": [
    {
     "name": "stderr",
     "output_type": "stream",
     "text": [
      "100%|██████████| 746/746 [00:00<00:00, 248744.00it/s]\n"
     ]
    }
   ],
   "source": [
    "normalize_sprs_mat = normalize(transform(corpus, word_idf_top50), norm='l2', axis=1, copy=True, return_norm=False)"
   ]
  },
  {
   "cell_type": "code",
   "execution_count": 38,
   "metadata": {},
   "outputs": [
    {
     "data": {
      "text/plain": [
       "(746, 50)"
      ]
     },
     "execution_count": 38,
     "metadata": {},
     "output_type": "execute_result"
    }
   ],
   "source": [
    "normalize_sprs_mat.shape   #shape of normalized sparse matrix would be 746  rows and 50 columns."
   ]
  },
  {
   "cell_type": "code",
   "execution_count": 39,
   "metadata": {},
   "outputs": [
    {
     "name": "stdout",
     "output_type": "stream",
     "text": [
      "  (0, 24)\t1.0\n"
     ]
    }
   ],
   "source": [
    "print(normalize_sprs_mat[0])   #sparse matrix elements correcponding to 1st document in corpus."
   ]
  },
  {
   "cell_type": "code",
   "execution_count": 40,
   "metadata": {},
   "outputs": [
    {
     "name": "stdout",
     "output_type": "stream",
     "text": [
      "  (0, 3)\t0.37796447300922725\n",
      "  (0, 9)\t0.37796447300922725\n",
      "  (0, 15)\t0.37796447300922725\n",
      "  (0, 17)\t0.37796447300922725\n",
      "  (0, 29)\t0.37796447300922725\n",
      "  (0, 32)\t0.37796447300922725\n",
      "  (0, 40)\t0.37796447300922725\n"
     ]
    }
   ],
   "source": [
    "print((normalize_sprs_mat[135]))  #sparse matrix elements correcponding to 136th document in corpus."
   ]
  },
  {
   "cell_type": "code",
   "execution_count": null,
   "metadata": {},
   "outputs": [],
   "source": []
  },
  {
   "cell_type": "markdown",
   "metadata": {},
   "source": [
    "####  Similary finding the last 50 word having lowest idf values.count"
   ]
  },
  {
   "cell_type": "code",
   "execution_count": 41,
   "metadata": {},
   "outputs": [],
   "source": [
    "word_idf_last50 = sorted(word_idf.items(), key=lambda x: x[1], reverse=True)[-50:]"
   ]
  },
  {
   "cell_type": "code",
   "execution_count": 42,
   "metadata": {},
   "outputs": [
    {
     "data": {
      "text/plain": [
       "[('qu', 4.150329282333091),\n",
       " ('great', 4.119557623666337),\n",
       " ('ms', 4.119557623666337),\n",
       " ('play', 4.119557623666337),\n",
       " ('every', 4.089704660516656),\n",
       " ('lot', 4.089704660516656),\n",
       " ('oy', 4.089704660516656),\n",
       " ('really', 4.089704660516656),\n",
       " ('well', 4.060717123643403),\n",
       " ('dr', 4.0325462466767075),\n",
       " ('way', 4.0325462466767075),\n",
       " ('even', 3.9784790254064317),\n",
       " ('get', 3.9784790254064317),\n",
       " ('um', 3.9784790254064317),\n",
       " ('acting', 3.927185731018881),\n",
       " ('watch', 3.9024931184285094),\n",
       " ('era', 3.854865069439255),\n",
       " ('character', 3.7874237886437223),\n",
       " ('good', 3.7874237886437223),\n",
       " ('thing', 3.7242448870221905),\n",
       " ('like', 3.7040421797046714),\n",
       " ('man', 3.6842395524084917),\n",
       " ('ue', 3.6842395524084917),\n",
       " ('time', 3.6457732715806954),\n",
       " ('ive', 3.590713494397668),\n",
       " ('pi', 3.590713494397668),\n",
       " ('bad', 3.573013917298267),\n",
       " ('real', 3.573013917298267),\n",
       " ('art', 3.5217206229107165),\n",
       " ('end', 3.505191320959506),\n",
       " ('see', 3.3965574799567104),\n",
       " ('go', 3.105205678615967),\n",
       " ('one', 3.094276608083777),\n",
       " ('ever', 3.0727704028628136),\n",
       " ('im', 3.0310977064622455),\n",
       " ('us', 2.7640349212132),\n",
       " ('not', 2.7408678619316658),\n",
       " ('act', 2.6960842593046923),\n",
       " ('di', 2.681591252002126),\n",
       " ('film', 2.6532205548729104),\n",
       " ('ho', 2.6532205548729104),\n",
       " ('movie', 2.625632598354081),\n",
       " ('la', 2.592184664286541),\n",
       " ('th', 2.4570098859182883),\n",
       " ('co', 2.406579032291396),\n",
       " ('de', 2.406579032291396),\n",
       " ('no', 2.390318511419616),\n",
       " ('fi', 2.369041112972331),\n",
       " ('ed', 2.0515447778101237),\n",
       " ('en', 1.88921743754562)]"
      ]
     },
     "execution_count": 42,
     "metadata": {},
     "output_type": "execute_result"
    }
   ],
   "source": [
    "word_idf_last50"
   ]
  },
  {
   "cell_type": "markdown",
   "metadata": {},
   "source": [
    "## END"
   ]
  },
  {
   "cell_type": "code",
   "execution_count": null,
   "metadata": {},
   "outputs": [],
   "source": []
  }
 ],
 "metadata": {
  "colab": {
   "collapsed_sections": [],
   "name": "Assignment_3_Instructions.ipynb",
   "provenance": []
  },
  "kernelspec": {
   "display_name": "Python 3 (ipykernel)",
   "language": "python",
   "name": "python3"
  },
  "language_info": {
   "codemirror_mode": {
    "name": "ipython",
    "version": 3
   },
   "file_extension": ".py",
   "mimetype": "text/x-python",
   "name": "python",
   "nbconvert_exporter": "python",
   "pygments_lexer": "ipython3",
   "version": "3.11.0"
  }
 },
 "nbformat": 4,
 "nbformat_minor": 4
}
